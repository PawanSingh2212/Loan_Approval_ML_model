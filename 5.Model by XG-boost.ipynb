{
 "cells": [
  {
   "cell_type": "code",
   "execution_count": 1,
   "id": "645ba1a0-5326-40a0-8734-358bec1f3874",
   "metadata": {},
   "outputs": [],
   "source": [
    "import pandas as pd\n",
    "import numpy as np\n",
    "import matplotlib.pyplot as plt\n",
    "%matplotlib inline \n",
    "from sklearn.model_selection import train_test_split\n",
    "from sklearn.preprocessing import StandardScaler\n",
    "from sklearn.metrics import confusion_matrix, ConfusionMatrixDisplay,accuracy_score, classification_report\n",
    "import xgboost as xgb"
   ]
  },
  {
   "cell_type": "code",
   "execution_count": 2,
   "id": "f11daaa3-4e4a-45a0-84bd-9cf2ee7bff4c",
   "metadata": {},
   "outputs": [],
   "source": [
    "df=pd.read_csv('loan_train.csv')"
   ]
  },
  {
   "cell_type": "code",
   "execution_count": 3,
   "id": "0921799f-065e-43ed-9345-83abb9e63342",
   "metadata": {},
   "outputs": [],
   "source": [
    "X=df.drop('Loan_Status',axis=1)\n",
    "y=df['Loan_Status']"
   ]
  },
  {
   "cell_type": "code",
   "execution_count": 4,
   "id": "33ac7f1a-223c-49c8-af70-4da08e3bf6c8",
   "metadata": {},
   "outputs": [],
   "source": [
    "X_train1,X_test1,y_train1,y_test1=train_test_split(X,y,test_size=0.2,random_state=42)"
   ]
  },
  {
   "cell_type": "code",
   "execution_count": 6,
   "id": "d6c4fbf6-a8eb-40a1-b7a2-0f3d763e9720",
   "metadata": {},
   "outputs": [],
   "source": [
    "# scaling the numerical columns\n",
    "scaler = StandardScaler()\n",
    "numerical_cols = ['LoanAmount', 'Total_Income', 'Debt_to_Income_Ratio']\n",
    "X_train1[numerical_cols] = scaler.fit_transform(X_train1[numerical_cols])\n",
    "X_test1[numerical_cols] = scaler.transform(X_test1[numerical_cols])"
   ]
  },
  {
   "cell_type": "code",
   "execution_count": 8,
   "id": "1fbb80e7-6b54-40d0-8d09-57f5cc35c66b",
   "metadata": {},
   "outputs": [
    {
     "name": "stdout",
     "output_type": "stream",
     "text": [
      "Accuracy: 0.7642276422764228\n",
      "Confusion Matrix:\n",
      " [[26 17]\n",
      " [12 68]]\n",
      "Classification Report:\n",
      "               precision    recall  f1-score   support\n",
      "\n",
      "           0       0.68      0.60      0.64        43\n",
      "           1       0.80      0.85      0.82        80\n",
      "\n",
      "    accuracy                           0.76       123\n",
      "   macro avg       0.74      0.73      0.73       123\n",
      "weighted avg       0.76      0.76      0.76       123\n",
      "\n"
     ]
    },
    {
     "name": "stderr",
     "output_type": "stream",
     "text": [
      "C:\\Users\\hplap\\anaconda3\\envs\\myenv\\lib\\site-packages\\xgboost\\core.py:158: UserWarning: [06:17:19] WARNING: C:\\buildkite-agent\\builds\\buildkite-windows-cpu-autoscaling-group-i-0ed59c031377d09b8-1\\xgboost\\xgboost-ci-windows\\src\\learner.cc:740: \n",
      "Parameters: { \"use_label_encoder\" } are not used.\n",
      "\n",
      "  warnings.warn(smsg, UserWarning)\n"
     ]
    },
    {
     "data": {
      "text/plain": [
       "<sklearn.metrics._plot.confusion_matrix.ConfusionMatrixDisplay at 0x2161f3e4070>"
      ]
     },
     "execution_count": 8,
     "metadata": {},
     "output_type": "execute_result"
    },
    {
     "data": {
      "image/png": "[encoded data removed]",
      "text/plain": [
       "<Figure size 640x480 with 2 Axes>"
      ]
     },
     "metadata": {},
     "output_type": "display_data"
    }
   ],
   "source": [
    "xgb_model = xgb.XGBClassifier(\n",
    "    objective=\"binary:logistic\", \n",
    "    eval_metric=\"logloss\",        \n",
    "    use_label_encoder=False       \n",
    ")\n",
    "\n",
    "# training the model\n",
    "xgb_model.fit(X_train1,y_train1)\n",
    "# Make predictions\n",
    "y_pred1= xgb_model.predict(X_test1)\n",
    "\n",
    "# Evaluate the model\n",
    "accuracy1 = accuracy_score(y_test1, y_pred1)\n",
    "conf_matrix1 = confusion_matrix(y_test1, y_pred1)\n",
    "classification_rep1 = classification_report(y_test1, y_pred1)\n",
    "\n",
    "print(\"Accuracy:\", accuracy1)\n",
    "print(\"Confusion Matrix:\\n\", conf_matrix1)\n",
    "print(\"Classification Report:\\n\", classification_rep1)\n",
    "\n",
    "# Display the confusion matrix with custom labels\n",
    "disp1 = ConfusionMatrixDisplay(confusion_matrix=conf_matrix1)\n",
    "disp1.plot(cmap=\"Blues\")"
   ]
  },
  {
   "cell_type": "code",
   "execution_count": null,
   "id": "51356398-a6bd-414d-aa2d-411eab2f6b43",
   "metadata": {},
   "outputs": [],
   "source": []
  },
  {
   "cell_type": "code",
   "execution_count": null,
   "id": "a402234e-fc72-40cb-9cc1-0c446c9ce1c8",
   "metadata": {},
   "outputs": [],
   "source": []
  },
  {
   "cell_type": "markdown",
   "id": "b067c38d-180e-4453-a141-e8520d09e4e3",
   "metadata": {},
   "source": [
    "# Hyperparameter tunning "
   ]
  },
  {
   "cell_type": "code",
   "execution_count": 10,
   "id": "d35e0d11-94f0-43b0-a214-a83d6bcd8556",
   "metadata": {},
   "outputs": [
    {
     "name": "stdout",
     "output_type": "stream",
     "text": [
      "Fitting 5 folds for each of 2187 candidates, totalling 10935 fits\n",
      "Best Parameters: {'colsample_bytree': 0.8, 'gamma': 1, 'learning_rate': 0.1, 'max_depth': 5, 'min_child_weight': 1, 'n_estimators': 50, 'subsample': 1.0}\n",
      "Best Cross-Validation Accuracy: 0.8349412492269636\n"
     ]
    },
    {
     "name": "stderr",
     "output_type": "stream",
     "text": [
      "C:\\Users\\hplap\\anaconda3\\envs\\myenv\\lib\\site-packages\\xgboost\\core.py:158: UserWarning: [06:22:25] WARNING: C:\\buildkite-agent\\builds\\buildkite-windows-cpu-autoscaling-group-i-0ed59c031377d09b8-1\\xgboost\\xgboost-ci-windows\\src\\learner.cc:740: \n",
      "Parameters: { \"use_label_encoder\" } are not used.\n",
      "\n",
      "  warnings.warn(smsg, UserWarning)\n"
     ]
    }
   ],
   "source": [
    "from sklearn.model_selection import GridSearchCV\n",
    "from xgboost import XGBClassifier\n",
    "\n",
    "# Define the model\n",
    "xgb_model = XGBClassifier(use_label_encoder=False, eval_metric='logloss', random_state=42)\n",
    "\n",
    "# Define the parameter grid\n",
    "param_grid = {\n",
    "    'n_estimators': [50, 100, 200],\n",
    "    'max_depth': [3, 5, 7],\n",
    "    'learning_rate': [0.01, 0.1, 0.2],\n",
    "    'subsample': [0.6, 0.8, 1.0],\n",
    "    'colsample_bytree': [0.6, 0.8, 1.0],\n",
    "    'gamma': [0, 1, 5],\n",
    "    'min_child_weight': [1, 5, 10]\n",
    "}\n",
    "\n",
    "# Initialize GridSearchCV\n",
    "grid_search = GridSearchCV(estimator=xgb_model, param_grid=param_grid, cv=5, scoring='accuracy', verbose=2, n_jobs=-1)\n",
    "\n",
    "# Fit the model\n",
    "grid_search.fit(X_train1, y_train1)\n",
    "\n",
    "# Print best parameters and accuracy\n",
    "print(\"Best Parameters:\", grid_search.best_params_)\n",
    "print(\"Best Cross-Validation Accuracy:\", grid_search.best_score_)\n"
   ]
  },
  {
   "cell_type": "code",
   "execution_count": 14,
   "id": "673ed411-1c66-4a77-a331-be06868f88b4",
   "metadata": {},
   "outputs": [
    {
     "name": "stdout",
     "output_type": "stream",
     "text": [
      "Accuracy on Test Data: 0.7967479674796748\n",
      "\n",
      "Classification Report:\n",
      "               precision    recall  f1-score   support\n",
      "\n",
      "           0       0.82      0.53      0.65        43\n",
      "           1       0.79      0.94      0.86        80\n",
      "\n",
      "    accuracy                           0.80       123\n",
      "   macro avg       0.81      0.74      0.75       123\n",
      "weighted avg       0.80      0.80      0.78       123\n",
      "\n",
      "\n",
      "Confusion Matrix:\n",
      " [[23 20]\n",
      " [ 5 75]]\n",
      "Accuracy: 0.7967479674796748\n",
      "Classification Report:\n",
      "               precision    recall  f1-score   support\n",
      "\n",
      "           0       0.82      0.53      0.65        43\n",
      "           1       0.79      0.94      0.86        80\n",
      "\n",
      "    accuracy                           0.80       123\n",
      "   macro avg       0.81      0.74      0.75       123\n",
      "weighted avg       0.80      0.80      0.78       123\n",
      "\n"
     ]
    },
    {
     "data": {
      "text/plain": [
       "<sklearn.metrics._plot.confusion_matrix.ConfusionMatrixDisplay at 0x2161f5005e0>"
      ]
     },
     "execution_count": 14,
     "metadata": {},
     "output_type": "execute_result"
    },
    {
     "data": {
      "image/png": "[encoded data removed]",
      "text/plain": [
       "<Figure size 640x480 with 2 Axes>"
      ]
     },
     "metadata": {},
     "output_type": "display_data"
    }
   ],
   "source": [
    "# Initialize XGBoost with the best parameters\n",
    "best_xgb = XGBClassifier(\n",
    "    colsample_bytree=0.8,\n",
    "    gamma=1,\n",
    "    learning_rate=0.1,\n",
    "    max_depth=5,\n",
    "    min_child_weight=1,\n",
    "    n_estimators=50,\n",
    "    subsample=1.0,\n",
    "    random_state=42\n",
    ")\n",
    "\n",
    "# Train the model\n",
    "best_xgb.fit(X_train1, y_train1)\n",
    "\n",
    "# Make predictions on the test set\n",
    "y_pred = best_xgb.predict(X_test1)\n",
    "\n",
    "# Evaluate the model\n",
    "print(\"Accuracy on Test Data:\", accuracy_score(y_test1, y_pred))\n",
    "print(\"\\nClassification Report:\\n\", classification_report(y_test1, y_pred))\n",
    "print(\"\\nConfusion Matrix:\\n\", confusion_matrix(y_test1, y_pred))\n",
    "\n",
    "print(\"Accuracy:\", accuracy_score(y_test1, y_pred))\n",
    "print(\"Classification Report:\\n\", classification_report(y_test1, y_pred))\n",
    "ConfusionMatrixDisplay(confusion_matrix(y_test1, y_pred)).plot()"
   ]
  },
  {
   "cell_type": "code",
   "execution_count": null,
   "id": "80b0f51b-7ff5-4e0c-aa81-d89db205103b",
   "metadata": {},
   "outputs": [],
   "source": []
  }
 ],
 "metadata": {
  "kernelspec": {
   "display_name": "Python 3 (ipykernel)",
   "language": "python",
   "name": "python3"
  },
  "language_info": {
   "codemirror_mode": {
    "name": "ipython",
    "version": 3
   },
   "file_extension": ".py",
   "mimetype": "text/x-python",
   "name": "python",
   "nbconvert_exporter": "python",
   "pygments_lexer": "ipython3",
   "version": "3.9.20"
  }
 },
 "nbformat": 4,
 "nbformat_minor": 5
}
